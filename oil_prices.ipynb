{
 "cells": [
  {
   "cell_type": "code",
   "execution_count": 11,
   "id": "810055a6",
   "metadata": {},
   "outputs": [
    {
     "data": {
      "text/plain": [
       "(8974, 2)"
      ]
     },
     "execution_count": 11,
     "metadata": {},
     "output_type": "execute_result"
    }
   ],
   "source": [
    "import pandas as pd\n",
    "data1 = pd.read_csv(\"brent-daily.csv\")\n",
    "data1.rename(columns = {'Price':'Brent_Price'}, inplace = True)\n",
    "data1.shape"
   ]
  },
  {
   "cell_type": "code",
   "execution_count": 12,
   "id": "58208607",
   "metadata": {},
   "outputs": [
    {
     "data": {
      "text/plain": [
       "(9256, 2)"
      ]
     },
     "execution_count": 12,
     "metadata": {},
     "output_type": "execute_result"
    }
   ],
   "source": [
    "data2 = pd.read_csv(\"wti-daily.csv\")\n",
    "data2.rename(columns = {'Price':'WTI_Price'}, inplace = True)\n",
    "data2.shape"
   ]
  },
  {
   "cell_type": "code",
   "execution_count": 14,
   "id": "e3d202ab",
   "metadata": {},
   "outputs": [
    {
     "data": {
      "text/html": [
       "<div>\n",
       "<style scoped>\n",
       "    .dataframe tbody tr th:only-of-type {\n",
       "        vertical-align: middle;\n",
       "    }\n",
       "\n",
       "    .dataframe tbody tr th {\n",
       "        vertical-align: top;\n",
       "    }\n",
       "\n",
       "    .dataframe thead th {\n",
       "        text-align: right;\n",
       "    }\n",
       "</style>\n",
       "<table border=\"1\" class=\"dataframe\">\n",
       "  <thead>\n",
       "    <tr style=\"text-align: right;\">\n",
       "      <th></th>\n",
       "      <th>Date</th>\n",
       "      <th>Brent_Price</th>\n",
       "      <th>WTI_Price</th>\n",
       "    </tr>\n",
       "  </thead>\n",
       "  <tbody>\n",
       "    <tr>\n",
       "      <th>0</th>\n",
       "      <td>1987-05-20</td>\n",
       "      <td>18.63</td>\n",
       "      <td>19.75</td>\n",
       "    </tr>\n",
       "    <tr>\n",
       "      <th>1</th>\n",
       "      <td>1987-05-21</td>\n",
       "      <td>18.45</td>\n",
       "      <td>19.95</td>\n",
       "    </tr>\n",
       "    <tr>\n",
       "      <th>2</th>\n",
       "      <td>1987-05-22</td>\n",
       "      <td>18.55</td>\n",
       "      <td>19.68</td>\n",
       "    </tr>\n",
       "    <tr>\n",
       "      <th>3</th>\n",
       "      <td>1987-05-26</td>\n",
       "      <td>18.63</td>\n",
       "      <td>19.35</td>\n",
       "    </tr>\n",
       "    <tr>\n",
       "      <th>4</th>\n",
       "      <td>1987-05-27</td>\n",
       "      <td>18.60</td>\n",
       "      <td>19.38</td>\n",
       "    </tr>\n",
       "    <tr>\n",
       "      <th>...</th>\n",
       "      <td>...</td>\n",
       "      <td>...</td>\n",
       "      <td>...</td>\n",
       "    </tr>\n",
       "    <tr>\n",
       "      <th>8822</th>\n",
       "      <td>2022-09-20</td>\n",
       "      <td>89.62</td>\n",
       "      <td>84.69</td>\n",
       "    </tr>\n",
       "    <tr>\n",
       "      <th>8823</th>\n",
       "      <td>2022-09-21</td>\n",
       "      <td>89.86</td>\n",
       "      <td>83.38</td>\n",
       "    </tr>\n",
       "    <tr>\n",
       "      <th>8824</th>\n",
       "      <td>2022-09-22</td>\n",
       "      <td>90.40</td>\n",
       "      <td>84.02</td>\n",
       "    </tr>\n",
       "    <tr>\n",
       "      <th>8825</th>\n",
       "      <td>2022-09-23</td>\n",
       "      <td>84.29</td>\n",
       "      <td>79.07</td>\n",
       "    </tr>\n",
       "    <tr>\n",
       "      <th>8826</th>\n",
       "      <td>2022-09-26</td>\n",
       "      <td>82.55</td>\n",
       "      <td>77.17</td>\n",
       "    </tr>\n",
       "  </tbody>\n",
       "</table>\n",
       "<p>8827 rows × 3 columns</p>\n",
       "</div>"
      ],
      "text/plain": [
       "            Date  Brent_Price  WTI_Price\n",
       "0     1987-05-20        18.63      19.75\n",
       "1     1987-05-21        18.45      19.95\n",
       "2     1987-05-22        18.55      19.68\n",
       "3     1987-05-26        18.63      19.35\n",
       "4     1987-05-27        18.60      19.38\n",
       "...          ...          ...        ...\n",
       "8822  2022-09-20        89.62      84.69\n",
       "8823  2022-09-21        89.86      83.38\n",
       "8824  2022-09-22        90.40      84.02\n",
       "8825  2022-09-23        84.29      79.07\n",
       "8826  2022-09-26        82.55      77.17\n",
       "\n",
       "[8827 rows x 3 columns]"
      ]
     },
     "execution_count": 14,
     "metadata": {},
     "output_type": "execute_result"
    }
   ],
   "source": [
    "data_total = pd.merge(data1, data2, on=[\"Date\"])\n",
    "data_total"
   ]
  },
  {
   "cell_type": "code",
   "execution_count": 24,
   "id": "156be6dd",
   "metadata": {},
   "outputs": [
    {
     "data": {
      "image/png": "[encoded data removed]",
      "text/plain": [
       "<Figure size 432x288 with 1 Axes>"
      ]
     },
     "metadata": {
      "needs_background": "light"
     },
     "output_type": "display_data"
    }
   ],
   "source": [
    "import matplotlib.pyplot as plt\n",
    "plt.plot(data_total.Date, data_total.Brent_Price)\n",
    "plt.plot(data_total.Date, data_total.WTI_Price)\n",
    "plt.show()\n"
   ]
  },
  {
   "cell_type": "code",
   "execution_count": 31,
   "id": "8e2d51ce",
   "metadata": {},
   "outputs": [
    {
     "data": {
      "text/html": [
       "<div>\n",
       "<style scoped>\n",
       "    .dataframe tbody tr th:only-of-type {\n",
       "        vertical-align: middle;\n",
       "    }\n",
       "\n",
       "    .dataframe tbody tr th {\n",
       "        vertical-align: top;\n",
       "    }\n",
       "\n",
       "    .dataframe thead th {\n",
       "        text-align: right;\n",
       "    }\n",
       "</style>\n",
       "<table border=\"1\" class=\"dataframe\">\n",
       "  <thead>\n",
       "    <tr style=\"text-align: right;\">\n",
       "      <th></th>\n",
       "      <th>Date</th>\n",
       "      <th>Brent_Price</th>\n",
       "      <th>WTI_Price</th>\n",
       "      <th>Brent vs. WTI difference</th>\n",
       "      <th>Brent_WTI_diff</th>\n",
       "    </tr>\n",
       "  </thead>\n",
       "  <tbody>\n",
       "    <tr>\n",
       "      <th>0</th>\n",
       "      <td>1987-05-20</td>\n",
       "      <td>18.63</td>\n",
       "      <td>19.75</td>\n",
       "      <td>-1.12</td>\n",
       "      <td>-1.12</td>\n",
       "    </tr>\n",
       "    <tr>\n",
       "      <th>1</th>\n",
       "      <td>1987-05-21</td>\n",
       "      <td>18.45</td>\n",
       "      <td>19.95</td>\n",
       "      <td>-1.50</td>\n",
       "      <td>-1.50</td>\n",
       "    </tr>\n",
       "    <tr>\n",
       "      <th>2</th>\n",
       "      <td>1987-05-22</td>\n",
       "      <td>18.55</td>\n",
       "      <td>19.68</td>\n",
       "      <td>-1.13</td>\n",
       "      <td>-1.13</td>\n",
       "    </tr>\n",
       "    <tr>\n",
       "      <th>3</th>\n",
       "      <td>1987-05-26</td>\n",
       "      <td>18.63</td>\n",
       "      <td>19.35</td>\n",
       "      <td>-0.72</td>\n",
       "      <td>-0.72</td>\n",
       "    </tr>\n",
       "    <tr>\n",
       "      <th>4</th>\n",
       "      <td>1987-05-27</td>\n",
       "      <td>18.60</td>\n",
       "      <td>19.38</td>\n",
       "      <td>-0.78</td>\n",
       "      <td>-0.78</td>\n",
       "    </tr>\n",
       "  </tbody>\n",
       "</table>\n",
       "</div>"
      ],
      "text/plain": [
       "         Date  Brent_Price  WTI_Price  Brent vs. WTI difference  \\\n",
       "0  1987-05-20        18.63      19.75                     -1.12   \n",
       "1  1987-05-21        18.45      19.95                     -1.50   \n",
       "2  1987-05-22        18.55      19.68                     -1.13   \n",
       "3  1987-05-26        18.63      19.35                     -0.72   \n",
       "4  1987-05-27        18.60      19.38                     -0.78   \n",
       "\n",
       "   Brent_WTI_diff  \n",
       "0           -1.12  \n",
       "1           -1.50  \n",
       "2           -1.13  \n",
       "3           -0.72  \n",
       "4           -0.78  "
      ]
     },
     "execution_count": 31,
     "metadata": {},
     "output_type": "execute_result"
    }
   ],
   "source": [
    "data_total[\"Brent_WTI_diff\"] = (data_total[\"Brent_Price\"] - data_total[\"WTI_Price\"])\n",
    "data_total.head()"
   ]
  },
  {
   "cell_type": "code",
   "execution_count": 32,
   "id": "b248637b",
   "metadata": {},
   "outputs": [
    {
     "data": {
      "image/png": "[encoded data removed]",
      "text/plain": [
       "<Figure size 432x288 with 1 Axes>"
      ]
     },
     "metadata": {
      "needs_background": "light"
     },
     "output_type": "display_data"
    }
   ],
   "source": [
    "plt.plot(data_total.Date, data_total.Brent_WTI_diff)\n",
    "plt.show()\n"
   ]
  }
 ],
 "metadata": {
  "kernelspec": {
   "display_name": "Python 3 (ipykernel)",
   "language": "python",
   "name": "python3"
  },
  "language_info": {
   "codemirror_mode": {
    "name": "ipython",
    "version": 3
   },
   "file_extension": ".py",
   "mimetype": "text/x-python",
   "name": "python",
   "nbconvert_exporter": "python",
   "pygments_lexer": "ipython3",
   "version": "3.9.7"
  }
 },
 "nbformat": 4,
 "nbformat_minor": 5
}
